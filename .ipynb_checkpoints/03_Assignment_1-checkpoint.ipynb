{
 "cells": [
  {
   "cell_type": "markdown",
   "metadata": {
    "collapsed": true
   },
   "source": [
    "# Introductory applied machine learning (INFR10069)"
   ]
  },
  {
   "cell_type": "markdown",
   "metadata": {},
   "source": [
    "# Assignment 1: Data analysis and visualisation"
   ]
  },
  {
   "cell_type": "markdown",
   "metadata": {},
   "source": [
    "## Marking Breakdown\n",
    "\n",
    "**70-100%** results/answer correct plus extra achievement at understanding or analysis of results. Clear explanations, evidence of creative or deeper thought will contribute to a higher grade.\n",
    "\n",
    "**60-69%** results/answer correct or nearly correct and well explained.\n",
    "\n",
    "**50-59%** results/answer in right direction but significant errors.\n",
    "\n",
    "**40-49%** some evidence that the student has gained some understanding, but not answered the questions\n",
    "properly.\n",
    "\n",
    "**0-39%** serious error or slack work."
   ]
  },
  {
   "cell_type": "markdown",
   "metadata": {},
   "source": [
    "## Mechanics\n",
    "\n",
    "Fill out this notebook, save it, and **submit it electronically as described below.**\n",
    "\n",
    "On a DICE environment, open the terminal, navigate to the location of this notebook, and submit this notebook file using the following command:\n",
    "\n",
    "`submit iaml cw1 03_Assignment_1.ipynb`\n",
    "\n",
    "What actually happens in the background is that your file is placed in a folder available to markers. If you submit a file with the same name into the same location, **it will overwrite your previous submission**. You can check the status of your submissions with the show_submissions command.\n",
    "\n",
    "Please note the importance of the number. **This should changed with each assignment!** Also note that submitting again will *overwrite* your previous submission. You can check the status of your submissions with the `show_submissions` command.\n",
    "\n",
    "**Distance Learners:** To copy your work up to DICE (such that you can use the `submit` command) you can use `scp` or `rsync` (you may need to install these yourself). You can copy files up using `student.ssh.inf.ed.ac.uk`, then ssh in to submit, e.g. (in a unix terminal):\n",
    "```\n",
    "assignment_number=1\n",
    "local_scp_folder=iamlans\n",
    "UUN=s0816700\n",
    "server_address=student.ssh.inf.ed.ac.uk\n",
    "server_scp_folder=Downloads\n",
    "scp -r ${local_scp_folder} ${UUN}@${server_address}:${server_scp_folder}\n",
    "# rsync -rl ${local_scp_folder} ${UUN}@${server_address}:${server_scp_folder}\n",
    "ssh ${UUN}@${server_address}\n",
    "cd Downloads\n",
    "submit iaml ${assignment_number} iamlans\n",
    "```\n",
    "\n",
    "**Late submissions:** The policy stated in the School of Informatics MSc Degree Guide is that normally you will not be allowed to submit coursework late. See http://www.inf.ed.ac.uk/teaching/years/msc/courseguide10.html#exam for exceptions to this, e.g. in case of serious medical illness or serious personal problems.\n",
    "\n",
    "**Collaboration:** You may discuss the assignment with your colleagues, provided that the writing that you submit is entirely your own. That is, you should NOT borrow actual text or code from other students. We ask that you provide a list of the people who you've had discussions with (if any)."
   ]
  },
  {
   "cell_type": "markdown",
   "metadata": {},
   "source": [
    "## Important Instructions\n",
    "\n",
    "1. You *MUST* have your environment set up as in the [README](https://github.com/JamesOwers/iaml2017) and you *must activate this environment before running this notebook*:\n",
    "```\n",
    "source activate iaml\n",
    "cd iaml_2017\n",
    "jupyter notebook\n",
    "# Navigate to this file\n",
    "```\n",
    "\n",
    "1. Wherever you are required to produce code you should use code cells, otherwise you should use markdown cells to report results and explain answers.\n",
    "\n",
    "1. The .csv files that you will be using are located at `./datasets` (the `datasets` directory is adjacent to this file).\n",
    "\n",
    "1. **IMPORTANT:** Keep your answers brief and concise. Most written questions can be answered with 2-3 lines of explanation."
   ]
  },
  {
   "cell_type": "markdown",
   "metadata": {},
   "source": [
    "## Imports\n",
    "\n",
    "Execute the cell below to import all packages you will be using in the rest of the assignemnt."
   ]
  },
  {
   "cell_type": "code",
   "execution_count": 1,
   "metadata": {
    "collapsed": true
   },
   "outputs": [],
   "source": [
    "from __future__ import print_function, division\n",
    "import os\n",
    "import numpy as np\n",
    "import pandas as pd\n",
    "import matplotlib.pyplot as plt\n",
    "import sklearn as sklearn\n",
    "import seaborn as sns\n",
    "%matplotlib inline"
   ]
  },
  {
   "cell_type": "markdown",
   "metadata": {},
   "source": [
    "## Description of the dataset\n",
    "\n",
    "This assignment is based on the 20 Newsgroups Dataset. This dataset is a collection of approximately 20,000 newsgroup documents, partitioned (nearly) evenly across 20 different newsgroups, each corresponding to a different topic. Some of the newsgroups are very closely related to each other (e.g. comp.sys.ibm.pc.hardware, comp.sys.mac.hardware), while others are highly unrelated (e.g misc.forsale, soc.religion.christian). \n",
    "\n",
    "There are three versions of the 20 Newsgroups Dataset. In this assignment we will use the `bydate` matlab version in which documents are sorted by date into training (60%) and test (40%) sets, newsgroup-identifying headers are dropped and duplicates are removed. This collection comprises roughly 61,000 different words, which results in a bag-of-words representation with frequency counts. More specifically, each document is represented by a 61,000 dimensional vector that contains the counts for each of the 61,000 different words present in the respective document. \n",
    "\n",
    "To save you time and to make the problem manageable with limited computational resources, we preprocessed the original dataset. We will use documents from only 5 out of the 20 newsgroups, which results in a 5-class problem. More specifically the 5 classes correspond to the following newsgroups: \n",
    "1. `alt.atheism`\n",
    "2. `comp.sys.ibm.pc.hardware`\n",
    "3. `comp.sys.mac.hardware`\n",
    "4. `rec.sport.baseball`\n",
    "5. `rec.sport.hockey `\n",
    "\n",
    "However, note here that classes 2-3 and 4-5 are rather closely related. Additionally, we computed the [mutual information](https://en.wikipedia.org/wiki/Mutual_information) of each word with the class attribute and selected the 520 words out of 61,000 that had highest mutual information. Therefore, our dataset is a $N \\times 520$ dimensional matrix, where $N$ is the number of documents. For very sophisticated technical reasons 1 was added to all the word counts in part A. The resulting representation is much more compact and can be used directly to perform our experiments in Python."
   ]
  },
  {
   "cell_type": "markdown",
   "metadata": {},
   "source": [
    "## 1. Exploration of the dataset [40%]"
   ]
  },
  {
   "cell_type": "markdown",
   "metadata": {},
   "source": [
    "Your first task is to get a feel for the data that you will be dealing with in the rest of the assignment."
   ]
  },
  {
   "cell_type": "markdown",
   "metadata": {},
   "source": [
    "### ========== Question 1.1 --- [5 marks] ==========\n",
    "Load the datasets `train_20news_partA.csv` and `train_20news_partB.csv` into two separate pandas DataFrames."
   ]
  },
  {
   "cell_type": "code",
   "execution_count": 2,
   "metadata": {
    "collapsed": true
   },
   "outputs": [],
   "source": [
    "# Your code goes here\n",
    "file_A_path = os.path.join(os.getcwd(),'datasets','train_20news_partA.csv')\n",
    "file_B_path = os.path.join(os.getcwd(),'datasets','train_20news_partB.csv')\n",
    "news_A = pd.read_csv(file_A_path)\n",
    "news_B = pd.read_csv(file_B_path)"
   ]
  },
  {
   "cell_type": "markdown",
   "metadata": {
    "collapsed": true
   },
   "source": [
    "### ========== Question 1.2 --- [3 marks] ==========\n",
    "Display basic information for dataset A such as number of columns, type, and memory usage (*hint: pandas dataframes have a built in method for this*) "
   ]
  },
  {
   "cell_type": "code",
   "execution_count": 6,
   "metadata": {},
   "outputs": [
    {
     "name": "stdout",
     "output_type": "stream",
     "text": [
      "<class 'pandas.core.frame.DataFrame'>\n",
      "Int64Index: 2129 entries, 0 to 2256\n",
      "Columns: 521 entries, w1_aaa to class\n",
      "dtypes: int64(521)\n",
      "memory usage: 8.5 MB\n"
     ]
    }
   ],
   "source": [
    "# Your code goes here\n",
    "news_A.info()"
   ]
  },
  {
   "cell_type": "markdown",
   "metadata": {},
   "source": [
    "### ========== Question 1.3 --- [3 marks] ==========\n",
    "How many data points and how many attributes are there in the dataset that we can use to model the target variable `class`?"
   ]
  },
  {
   "cell_type": "markdown",
   "metadata": {},
   "source": [
    "*Your answer goes here*  \n",
    "There are 2129 data points and 520 attributes available.\n"
   ]
  },
  {
   "cell_type": "markdown",
   "metadata": {
    "collapsed": true
   },
   "source": [
    "### ========== Question 1.4 --- [3 marks] ==========\n",
    "Use a Pandas method to display the summary statistics for the `news_A` DataFrame."
   ]
  },
  {
   "cell_type": "code",
   "execution_count": 7,
   "metadata": {},
   "outputs": [
    {
     "data": {
      "text/html": [
       "<div>\n",
       "<style>\n",
       "    .dataframe thead tr:only-child th {\n",
       "        text-align: right;\n",
       "    }\n",
       "\n",
       "    .dataframe thead th {\n",
       "        text-align: left;\n",
       "    }\n",
       "\n",
       "    .dataframe tbody tr th {\n",
       "        vertical-align: top;\n",
       "    }\n",
       "</style>\n",
       "<table border=\"1\" class=\"dataframe\">\n",
       "  <thead>\n",
       "    <tr style=\"text-align: right;\">\n",
       "      <th></th>\n",
       "      <th>w1_aaa</th>\n",
       "      <th>w2_pins</th>\n",
       "      <th>w3_kmr</th>\n",
       "      <th>w4_notion</th>\n",
       "      <th>w5_queens</th>\n",
       "      <th>w6_dwyer</th>\n",
       "      <th>w7_defenseman</th>\n",
       "      <th>w8_gld</th>\n",
       "      <th>w9_tocchet</th>\n",
       "      <th>w10_home</th>\n",
       "      <th>...</th>\n",
       "      <th>w512_constantly</th>\n",
       "      <th>w513_generate</th>\n",
       "      <th>w514_definite</th>\n",
       "      <th>w515_lacks</th>\n",
       "      <th>w516_combination</th>\n",
       "      <th>w517_sitting</th>\n",
       "      <th>w518_surface</th>\n",
       "      <th>w519_fashion</th>\n",
       "      <th>w520_sit</th>\n",
       "      <th>class</th>\n",
       "    </tr>\n",
       "  </thead>\n",
       "  <tbody>\n",
       "    <tr>\n",
       "      <th>count</th>\n",
       "      <td>2129.000000</td>\n",
       "      <td>2129.000000</td>\n",
       "      <td>2129.000000</td>\n",
       "      <td>2129.000000</td>\n",
       "      <td>2129.000000</td>\n",
       "      <td>2129.00000</td>\n",
       "      <td>2129.000000</td>\n",
       "      <td>2129.000000</td>\n",
       "      <td>2129.000000</td>\n",
       "      <td>2129.000000</td>\n",
       "      <td>...</td>\n",
       "      <td>2129.000000</td>\n",
       "      <td>2129.000000</td>\n",
       "      <td>2129.000000</td>\n",
       "      <td>2129.000000</td>\n",
       "      <td>2129.000000</td>\n",
       "      <td>2129.000000</td>\n",
       "      <td>2129.000000</td>\n",
       "      <td>2129.000000</td>\n",
       "      <td>2129.000000</td>\n",
       "      <td>2129.000000</td>\n",
       "    </tr>\n",
       "    <tr>\n",
       "      <th>mean</th>\n",
       "      <td>5.128229</td>\n",
       "      <td>6.097698</td>\n",
       "      <td>6.120244</td>\n",
       "      <td>5.551902</td>\n",
       "      <td>5.521841</td>\n",
       "      <td>6.12776</td>\n",
       "      <td>5.633161</td>\n",
       "      <td>6.090653</td>\n",
       "      <td>5.970409</td>\n",
       "      <td>5.624706</td>\n",
       "      <td>...</td>\n",
       "      <td>9.666510</td>\n",
       "      <td>9.217473</td>\n",
       "      <td>9.061531</td>\n",
       "      <td>9.398309</td>\n",
       "      <td>9.175200</td>\n",
       "      <td>9.708783</td>\n",
       "      <td>8.807891</td>\n",
       "      <td>9.719587</td>\n",
       "      <td>9.307656</td>\n",
       "      <td>3.092532</td>\n",
       "    </tr>\n",
       "    <tr>\n",
       "      <th>std</th>\n",
       "      <td>38.292577</td>\n",
       "      <td>46.190953</td>\n",
       "      <td>46.656022</td>\n",
       "      <td>40.953913</td>\n",
       "      <td>40.978098</td>\n",
       "      <td>45.96434</td>\n",
       "      <td>41.146918</td>\n",
       "      <td>45.762060</td>\n",
       "      <td>44.266628</td>\n",
       "      <td>40.769105</td>\n",
       "      <td>...</td>\n",
       "      <td>45.844064</td>\n",
       "      <td>43.948910</td>\n",
       "      <td>40.969185</td>\n",
       "      <td>43.833064</td>\n",
       "      <td>42.403283</td>\n",
       "      <td>47.294120</td>\n",
       "      <td>39.341038</td>\n",
       "      <td>46.185082</td>\n",
       "      <td>45.059367</td>\n",
       "      <td>1.395948</td>\n",
       "    </tr>\n",
       "    <tr>\n",
       "      <th>min</th>\n",
       "      <td>1.000000</td>\n",
       "      <td>1.000000</td>\n",
       "      <td>1.000000</td>\n",
       "      <td>1.000000</td>\n",
       "      <td>1.000000</td>\n",
       "      <td>1.00000</td>\n",
       "      <td>1.000000</td>\n",
       "      <td>1.000000</td>\n",
       "      <td>1.000000</td>\n",
       "      <td>1.000000</td>\n",
       "      <td>...</td>\n",
       "      <td>1.000000</td>\n",
       "      <td>1.000000</td>\n",
       "      <td>1.000000</td>\n",
       "      <td>1.000000</td>\n",
       "      <td>1.000000</td>\n",
       "      <td>1.000000</td>\n",
       "      <td>1.000000</td>\n",
       "      <td>1.000000</td>\n",
       "      <td>1.000000</td>\n",
       "      <td>1.000000</td>\n",
       "    </tr>\n",
       "    <tr>\n",
       "      <th>25%</th>\n",
       "      <td>1.000000</td>\n",
       "      <td>1.000000</td>\n",
       "      <td>1.000000</td>\n",
       "      <td>1.000000</td>\n",
       "      <td>1.000000</td>\n",
       "      <td>1.00000</td>\n",
       "      <td>1.000000</td>\n",
       "      <td>1.000000</td>\n",
       "      <td>1.000000</td>\n",
       "      <td>1.000000</td>\n",
       "      <td>...</td>\n",
       "      <td>3.000000</td>\n",
       "      <td>2.000000</td>\n",
       "      <td>3.000000</td>\n",
       "      <td>3.000000</td>\n",
       "      <td>2.000000</td>\n",
       "      <td>3.000000</td>\n",
       "      <td>3.000000</td>\n",
       "      <td>3.000000</td>\n",
       "      <td>2.000000</td>\n",
       "      <td>2.000000</td>\n",
       "    </tr>\n",
       "    <tr>\n",
       "      <th>50%</th>\n",
       "      <td>1.000000</td>\n",
       "      <td>1.000000</td>\n",
       "      <td>1.000000</td>\n",
       "      <td>1.000000</td>\n",
       "      <td>1.000000</td>\n",
       "      <td>1.00000</td>\n",
       "      <td>1.000000</td>\n",
       "      <td>1.000000</td>\n",
       "      <td>1.000000</td>\n",
       "      <td>1.000000</td>\n",
       "      <td>...</td>\n",
       "      <td>5.000000</td>\n",
       "      <td>5.000000</td>\n",
       "      <td>5.000000</td>\n",
       "      <td>5.000000</td>\n",
       "      <td>5.000000</td>\n",
       "      <td>5.000000</td>\n",
       "      <td>5.000000</td>\n",
       "      <td>5.000000</td>\n",
       "      <td>4.000000</td>\n",
       "      <td>3.000000</td>\n",
       "    </tr>\n",
       "    <tr>\n",
       "      <th>75%</th>\n",
       "      <td>1.000000</td>\n",
       "      <td>1.000000</td>\n",
       "      <td>1.000000</td>\n",
       "      <td>1.000000</td>\n",
       "      <td>1.000000</td>\n",
       "      <td>1.00000</td>\n",
       "      <td>1.000000</td>\n",
       "      <td>1.000000</td>\n",
       "      <td>1.000000</td>\n",
       "      <td>1.000000</td>\n",
       "      <td>...</td>\n",
       "      <td>7.000000</td>\n",
       "      <td>7.000000</td>\n",
       "      <td>7.000000</td>\n",
       "      <td>7.000000</td>\n",
       "      <td>7.000000</td>\n",
       "      <td>7.000000</td>\n",
       "      <td>7.000000</td>\n",
       "      <td>7.000000</td>\n",
       "      <td>6.000000</td>\n",
       "      <td>4.000000</td>\n",
       "    </tr>\n",
       "    <tr>\n",
       "      <th>max</th>\n",
       "      <td>572.000000</td>\n",
       "      <td>583.000000</td>\n",
       "      <td>579.000000</td>\n",
       "      <td>580.000000</td>\n",
       "      <td>591.000000</td>\n",
       "      <td>600.00000</td>\n",
       "      <td>546.000000</td>\n",
       "      <td>591.000000</td>\n",
       "      <td>578.000000</td>\n",
       "      <td>578.000000</td>\n",
       "      <td>...</td>\n",
       "      <td>590.000000</td>\n",
       "      <td>587.000000</td>\n",
       "      <td>577.000000</td>\n",
       "      <td>598.000000</td>\n",
       "      <td>568.000000</td>\n",
       "      <td>599.000000</td>\n",
       "      <td>585.000000</td>\n",
       "      <td>600.000000</td>\n",
       "      <td>597.000000</td>\n",
       "      <td>5.000000</td>\n",
       "    </tr>\n",
       "  </tbody>\n",
       "</table>\n",
       "<p>8 rows × 521 columns</p>\n",
       "</div>"
      ],
      "text/plain": [
       "            w1_aaa      w2_pins       w3_kmr    w4_notion    w5_queens  \\\n",
       "count  2129.000000  2129.000000  2129.000000  2129.000000  2129.000000   \n",
       "mean      5.128229     6.097698     6.120244     5.551902     5.521841   \n",
       "std      38.292577    46.190953    46.656022    40.953913    40.978098   \n",
       "min       1.000000     1.000000     1.000000     1.000000     1.000000   \n",
       "25%       1.000000     1.000000     1.000000     1.000000     1.000000   \n",
       "50%       1.000000     1.000000     1.000000     1.000000     1.000000   \n",
       "75%       1.000000     1.000000     1.000000     1.000000     1.000000   \n",
       "max     572.000000   583.000000   579.000000   580.000000   591.000000   \n",
       "\n",
       "         w6_dwyer  w7_defenseman       w8_gld   w9_tocchet     w10_home  \\\n",
       "count  2129.00000    2129.000000  2129.000000  2129.000000  2129.000000   \n",
       "mean      6.12776       5.633161     6.090653     5.970409     5.624706   \n",
       "std      45.96434      41.146918    45.762060    44.266628    40.769105   \n",
       "min       1.00000       1.000000     1.000000     1.000000     1.000000   \n",
       "25%       1.00000       1.000000     1.000000     1.000000     1.000000   \n",
       "50%       1.00000       1.000000     1.000000     1.000000     1.000000   \n",
       "75%       1.00000       1.000000     1.000000     1.000000     1.000000   \n",
       "max     600.00000     546.000000   591.000000   578.000000   578.000000   \n",
       "\n",
       "          ...       w512_constantly  w513_generate  w514_definite  \\\n",
       "count     ...           2129.000000    2129.000000    2129.000000   \n",
       "mean      ...              9.666510       9.217473       9.061531   \n",
       "std       ...             45.844064      43.948910      40.969185   \n",
       "min       ...              1.000000       1.000000       1.000000   \n",
       "25%       ...              3.000000       2.000000       3.000000   \n",
       "50%       ...              5.000000       5.000000       5.000000   \n",
       "75%       ...              7.000000       7.000000       7.000000   \n",
       "max       ...            590.000000     587.000000     577.000000   \n",
       "\n",
       "        w515_lacks  w516_combination  w517_sitting  w518_surface  \\\n",
       "count  2129.000000       2129.000000   2129.000000   2129.000000   \n",
       "mean      9.398309          9.175200      9.708783      8.807891   \n",
       "std      43.833064         42.403283     47.294120     39.341038   \n",
       "min       1.000000          1.000000      1.000000      1.000000   \n",
       "25%       3.000000          2.000000      3.000000      3.000000   \n",
       "50%       5.000000          5.000000      5.000000      5.000000   \n",
       "75%       7.000000          7.000000      7.000000      7.000000   \n",
       "max     598.000000        568.000000    599.000000    585.000000   \n",
       "\n",
       "       w519_fashion     w520_sit        class  \n",
       "count   2129.000000  2129.000000  2129.000000  \n",
       "mean       9.719587     9.307656     3.092532  \n",
       "std       46.185082    45.059367     1.395948  \n",
       "min        1.000000     1.000000     1.000000  \n",
       "25%        3.000000     2.000000     2.000000  \n",
       "50%        5.000000     4.000000     3.000000  \n",
       "75%        7.000000     6.000000     4.000000  \n",
       "max      600.000000   597.000000     5.000000  \n",
       "\n",
       "[8 rows x 521 columns]"
      ]
     },
     "execution_count": 7,
     "metadata": {},
     "output_type": "execute_result"
    }
   ],
   "source": [
    "# Your code goes here\n",
    "news_A.describe()"
   ]
  },
  {
   "cell_type": "markdown",
   "metadata": {
    "collapsed": true
   },
   "source": [
    "### ========== Question 1.5 --- [3 marks] ==========\n",
    "Display the first 7 instances of dataset A."
   ]
  },
  {
   "cell_type": "code",
   "execution_count": 8,
   "metadata": {},
   "outputs": [
    {
     "data": {
      "text/html": [
       "<div>\n",
       "<style>\n",
       "    .dataframe thead tr:only-child th {\n",
       "        text-align: right;\n",
       "    }\n",
       "\n",
       "    .dataframe thead th {\n",
       "        text-align: left;\n",
       "    }\n",
       "\n",
       "    .dataframe tbody tr th {\n",
       "        vertical-align: top;\n",
       "    }\n",
       "</style>\n",
       "<table border=\"1\" class=\"dataframe\">\n",
       "  <thead>\n",
       "    <tr style=\"text-align: right;\">\n",
       "      <th></th>\n",
       "      <th>w1_aaa</th>\n",
       "      <th>w2_pins</th>\n",
       "      <th>w3_kmr</th>\n",
       "      <th>w4_notion</th>\n",
       "      <th>w5_queens</th>\n",
       "      <th>w6_dwyer</th>\n",
       "      <th>w7_defenseman</th>\n",
       "      <th>w8_gld</th>\n",
       "      <th>w9_tocchet</th>\n",
       "      <th>w10_home</th>\n",
       "      <th>...</th>\n",
       "      <th>w512_constantly</th>\n",
       "      <th>w513_generate</th>\n",
       "      <th>w514_definite</th>\n",
       "      <th>w515_lacks</th>\n",
       "      <th>w516_combination</th>\n",
       "      <th>w517_sitting</th>\n",
       "      <th>w518_surface</th>\n",
       "      <th>w519_fashion</th>\n",
       "      <th>w520_sit</th>\n",
       "      <th>class</th>\n",
       "    </tr>\n",
       "  </thead>\n",
       "  <tbody>\n",
       "    <tr>\n",
       "      <th>0</th>\n",
       "      <td>1</td>\n",
       "      <td>1</td>\n",
       "      <td>1</td>\n",
       "      <td>1</td>\n",
       "      <td>1</td>\n",
       "      <td>1</td>\n",
       "      <td>1</td>\n",
       "      <td>1</td>\n",
       "      <td>1</td>\n",
       "      <td>1</td>\n",
       "      <td>...</td>\n",
       "      <td>1</td>\n",
       "      <td>5</td>\n",
       "      <td>3</td>\n",
       "      <td>6</td>\n",
       "      <td>8</td>\n",
       "      <td>4</td>\n",
       "      <td>6</td>\n",
       "      <td>4</td>\n",
       "      <td>8</td>\n",
       "      <td>4</td>\n",
       "    </tr>\n",
       "    <tr>\n",
       "      <th>1</th>\n",
       "      <td>1</td>\n",
       "      <td>1</td>\n",
       "      <td>1</td>\n",
       "      <td>1</td>\n",
       "      <td>1</td>\n",
       "      <td>1</td>\n",
       "      <td>1</td>\n",
       "      <td>1</td>\n",
       "      <td>1</td>\n",
       "      <td>1</td>\n",
       "      <td>...</td>\n",
       "      <td>2</td>\n",
       "      <td>3</td>\n",
       "      <td>6</td>\n",
       "      <td>8</td>\n",
       "      <td>3</td>\n",
       "      <td>4</td>\n",
       "      <td>5</td>\n",
       "      <td>6</td>\n",
       "      <td>5</td>\n",
       "      <td>4</td>\n",
       "    </tr>\n",
       "    <tr>\n",
       "      <th>2</th>\n",
       "      <td>1</td>\n",
       "      <td>1</td>\n",
       "      <td>1</td>\n",
       "      <td>1</td>\n",
       "      <td>1</td>\n",
       "      <td>1</td>\n",
       "      <td>1</td>\n",
       "      <td>1</td>\n",
       "      <td>1</td>\n",
       "      <td>2</td>\n",
       "      <td>...</td>\n",
       "      <td>4</td>\n",
       "      <td>2</td>\n",
       "      <td>6</td>\n",
       "      <td>5</td>\n",
       "      <td>2</td>\n",
       "      <td>5</td>\n",
       "      <td>5</td>\n",
       "      <td>7</td>\n",
       "      <td>8</td>\n",
       "      <td>2</td>\n",
       "    </tr>\n",
       "    <tr>\n",
       "      <th>3</th>\n",
       "      <td>1</td>\n",
       "      <td>1</td>\n",
       "      <td>1</td>\n",
       "      <td>1</td>\n",
       "      <td>1</td>\n",
       "      <td>1</td>\n",
       "      <td>1</td>\n",
       "      <td>1</td>\n",
       "      <td>1</td>\n",
       "      <td>1</td>\n",
       "      <td>...</td>\n",
       "      <td>6</td>\n",
       "      <td>3</td>\n",
       "      <td>6</td>\n",
       "      <td>1</td>\n",
       "      <td>1</td>\n",
       "      <td>8</td>\n",
       "      <td>1</td>\n",
       "      <td>8</td>\n",
       "      <td>4</td>\n",
       "      <td>3</td>\n",
       "    </tr>\n",
       "    <tr>\n",
       "      <th>4</th>\n",
       "      <td>1</td>\n",
       "      <td>1</td>\n",
       "      <td>1</td>\n",
       "      <td>1</td>\n",
       "      <td>1</td>\n",
       "      <td>1</td>\n",
       "      <td>1</td>\n",
       "      <td>1</td>\n",
       "      <td>1</td>\n",
       "      <td>1</td>\n",
       "      <td>...</td>\n",
       "      <td>6</td>\n",
       "      <td>1</td>\n",
       "      <td>7</td>\n",
       "      <td>8</td>\n",
       "      <td>6</td>\n",
       "      <td>3</td>\n",
       "      <td>1</td>\n",
       "      <td>8</td>\n",
       "      <td>4</td>\n",
       "      <td>3</td>\n",
       "    </tr>\n",
       "    <tr>\n",
       "      <th>5</th>\n",
       "      <td>1</td>\n",
       "      <td>1</td>\n",
       "      <td>1</td>\n",
       "      <td>1</td>\n",
       "      <td>1</td>\n",
       "      <td>1</td>\n",
       "      <td>1</td>\n",
       "      <td>1</td>\n",
       "      <td>1</td>\n",
       "      <td>1</td>\n",
       "      <td>...</td>\n",
       "      <td>7</td>\n",
       "      <td>5</td>\n",
       "      <td>4</td>\n",
       "      <td>5</td>\n",
       "      <td>5</td>\n",
       "      <td>7</td>\n",
       "      <td>7</td>\n",
       "      <td>7</td>\n",
       "      <td>2</td>\n",
       "      <td>2</td>\n",
       "    </tr>\n",
       "    <tr>\n",
       "      <th>6</th>\n",
       "      <td>1</td>\n",
       "      <td>1</td>\n",
       "      <td>1</td>\n",
       "      <td>1</td>\n",
       "      <td>2</td>\n",
       "      <td>1</td>\n",
       "      <td>1</td>\n",
       "      <td>1</td>\n",
       "      <td>1</td>\n",
       "      <td>1</td>\n",
       "      <td>...</td>\n",
       "      <td>3</td>\n",
       "      <td>6</td>\n",
       "      <td>8</td>\n",
       "      <td>8</td>\n",
       "      <td>3</td>\n",
       "      <td>5</td>\n",
       "      <td>2</td>\n",
       "      <td>1</td>\n",
       "      <td>2</td>\n",
       "      <td>1</td>\n",
       "    </tr>\n",
       "  </tbody>\n",
       "</table>\n",
       "<p>7 rows × 521 columns</p>\n",
       "</div>"
      ],
      "text/plain": [
       "   w1_aaa  w2_pins  w3_kmr  w4_notion  w5_queens  w6_dwyer  w7_defenseman  \\\n",
       "0       1        1       1          1          1         1              1   \n",
       "1       1        1       1          1          1         1              1   \n",
       "2       1        1       1          1          1         1              1   \n",
       "3       1        1       1          1          1         1              1   \n",
       "4       1        1       1          1          1         1              1   \n",
       "5       1        1       1          1          1         1              1   \n",
       "6       1        1       1          1          2         1              1   \n",
       "\n",
       "   w8_gld  w9_tocchet  w10_home  ...    w512_constantly  w513_generate  \\\n",
       "0       1           1         1  ...                  1              5   \n",
       "1       1           1         1  ...                  2              3   \n",
       "2       1           1         2  ...                  4              2   \n",
       "3       1           1         1  ...                  6              3   \n",
       "4       1           1         1  ...                  6              1   \n",
       "5       1           1         1  ...                  7              5   \n",
       "6       1           1         1  ...                  3              6   \n",
       "\n",
       "   w514_definite  w515_lacks  w516_combination  w517_sitting  w518_surface  \\\n",
       "0              3           6                 8             4             6   \n",
       "1              6           8                 3             4             5   \n",
       "2              6           5                 2             5             5   \n",
       "3              6           1                 1             8             1   \n",
       "4              7           8                 6             3             1   \n",
       "5              4           5                 5             7             7   \n",
       "6              8           8                 3             5             2   \n",
       "\n",
       "   w519_fashion  w520_sit  class  \n",
       "0             4         8      4  \n",
       "1             6         5      4  \n",
       "2             7         8      2  \n",
       "3             8         4      3  \n",
       "4             8         4      3  \n",
       "5             7         2      2  \n",
       "6             1         2      1  \n",
       "\n",
       "[7 rows x 521 columns]"
      ]
     },
     "execution_count": 8,
     "metadata": {},
     "output_type": "execute_result"
    }
   ],
   "source": [
    "# Your code goes here\n",
    "news_A.head(7)"
   ]
  },
  {
   "cell_type": "markdown",
   "metadata": {},
   "source": [
    "### ========== Question 1.6 --- [5 marks] ==========\n",
    "Display the names of the first 100 attributes in dataset A. \n",
    "\n",
    "You might observe that each attribute consists of two parts:\n",
    "1. `w<x>_` (where x is an index corresponding to each word)\n",
    "2. the actual name of the word"
   ]
  },
  {
   "cell_type": "code",
   "execution_count": 13,
   "metadata": {},
   "outputs": [
    {
     "data": {
      "text/plain": [
       "['w1_aaa',\n",
       " 'w2_pins',\n",
       " 'w3_kmr',\n",
       " 'w4_notion',\n",
       " 'w5_queens',\n",
       " 'w6_dwyer',\n",
       " 'w7_defenseman',\n",
       " 'w8_gld',\n",
       " 'w9_tocchet',\n",
       " 'w10_home',\n",
       " 'w11_buying',\n",
       " 'w12_internet',\n",
       " 'w13_slots',\n",
       " 'w14_compatible',\n",
       " 'w15_transfer',\n",
       " 'w16_baltimore',\n",
       " 'w17_mean',\n",
       " 'w18_person',\n",
       " 'w19_performance',\n",
       " 'w20_support',\n",
       " 'w21_tor',\n",
       " 'w22_gm',\n",
       " 'w23_mouse',\n",
       " 'w24_base',\n",
       " 'w25_population',\n",
       " 'w26_bob',\n",
       " 'w27_set',\n",
       " 'w28_it',\n",
       " 'w29_earth',\n",
       " 'w30_faith',\n",
       " 'w31_steve',\n",
       " 'w32_caps',\n",
       " 'w33_printer',\n",
       " 'w34_east',\n",
       " 'w35_cable',\n",
       " 'w36_adapter',\n",
       " 'w37_mss',\n",
       " 'w38_catcher',\n",
       " 'w39_bullpen',\n",
       " 'w40_obp',\n",
       " 'w41_innocent',\n",
       " 'w42_european',\n",
       " 'w43_angeles',\n",
       " 'w44_settings',\n",
       " 'w45_words',\n",
       " 'w46_rit',\n",
       " 'w47_shots',\n",
       " 'w48_ports',\n",
       " 'w49_vga',\n",
       " 'w50_coverage',\n",
       " 'w51_jumpers',\n",
       " 'w52_bases',\n",
       " 'w53_sea',\n",
       " 'w54_pts',\n",
       " 'w55_behavior',\n",
       " 'w56_domi',\n",
       " 'w57_sabres',\n",
       " 'w58_yzerman',\n",
       " 'w59_messier',\n",
       " 'w60_goalies',\n",
       " 'w61_hawks',\n",
       " 'w62_our',\n",
       " 'w63_sx',\n",
       " 'w64_view',\n",
       " 'w65_hitters',\n",
       " 'w66_richard',\n",
       " 'w67_point',\n",
       " 'w68_nyi',\n",
       " 'w69_mvp',\n",
       " 'w70_kill',\n",
       " 'w71_nl',\n",
       " 'w72_field',\n",
       " 'w73_connector',\n",
       " 'w74_stars',\n",
       " 'w75_th',\n",
       " 'w76_install',\n",
       " 'w77_traded',\n",
       " 'w78_configuration',\n",
       " 'w79_standard',\n",
       " 'w80_rotation',\n",
       " 'w81_ultb',\n",
       " 'w82_sports',\n",
       " 'w83_pds',\n",
       " 'w84_canada',\n",
       " 'w85_did',\n",
       " 'w86_clock',\n",
       " 'w87_first',\n",
       " 'w88_switch',\n",
       " 'w89_tonight',\n",
       " 'w90_record',\n",
       " 'w91_singer',\n",
       " 'w92_majors',\n",
       " 'w93_royals',\n",
       " 'w94_does',\n",
       " 'w95_flames',\n",
       " 'w96_of',\n",
       " 'w97_series',\n",
       " 'w98_plays',\n",
       " 'w99_det',\n",
       " 'w100_pitched']"
      ]
     },
     "execution_count": 13,
     "metadata": {},
     "output_type": "execute_result"
    }
   ],
   "source": [
    "# Your code goes here\n",
    "news_A.columns.tolist()[:100]"
   ]
  },
  {
   "cell_type": "markdown",
   "metadata": {},
   "source": [
    "### ========== Question 1.7 --- [4 marks] ==========\n",
    "Familiarise yourself with the [`stripplot`](https://seaborn.github.io/generated/seaborn.stripplot.html?highlight=stripplot#seaborn.stripplot) function in `seaborn`. Pick one attribute of your choice (except `class`) and display a stripplot for that attribute for dataset A. Demonstrate the distribution of the data separately for each class (by making appropriate use of the `x` argument in `stripplot`). Set the `jitter` argument to `True` and the `alpha` argument to an appropriate value (to add transparency). When the jitter parameter is enabled a small amount of noise is added to the data so that there is less overlap and the distribution is easier to visualise."
   ]
  },
  {
   "cell_type": "code",
   "execution_count": 196,
   "metadata": {},
   "outputs": [
    {
     "data": {
      "text/plain": [
       "<matplotlib.axes._subplots.AxesSubplot at 0x16648630>"
      ]
     },
     "execution_count": 196,
     "metadata": {},
     "output_type": "execute_result"
    },
    {
     "data": {
      "image/png": "[encoded data removed]",
      "text/plain": [
       "<matplotlib.figure.Figure at 0x15f71d30>"
      ]
     },
     "metadata": {},
     "output_type": "display_data"
    }
   ],
   "source": [
    "# Your code goes here\n",
    "sns.stripplot(x=\"w96_of\", y=\"class\", data=news_A, jitter=True, alpha=0.45)"
   ]
  },
  {
   "cell_type": "markdown",
   "metadata": {},
   "source": [
    "### ========== Question 1.8 --- [4 marks] ==========\n",
    "The stripplot illustrates the distribution of a single attribute. We can also visualise the joint distribution of two variables by using a scatter plot. Again, we want to add a bit of noise into the data so that is easier to see which parts of the space (2-dimensional in our case) have larger probability densities. \n",
    "\n",
    "For this, you will be using the function `scatter_jitter` provided below. This function takes as input two numpy arrays containing the features of interest. Pick two attributes of your choice from dataset A and use the provided function to plot their joint distribution. You can play around with the amount of noise added by tweaking the `jitter` parameter. Alternatively, you can just use its default value which is set to 0.2."
   ]
  },
  {
   "cell_type": "code",
   "execution_count": 43,
   "metadata": {
    "collapsed": true
   },
   "outputs": [],
   "source": [
    "def scatter_jitter(arr1, arr2, jitter=0.2):\n",
    "    \"\"\" Plots a joint scatter plot of two arrays by adding small noise to each example. \n",
    "    Noise is proportional to variance in each dimension. \"\"\"\n",
    "    arr1 = np.asarray(arr1)\n",
    "    arr2 = np.asarray(arr2)\n",
    "    arr1 = arr1 + jitter*arr1.std(axis=0)*np.random.standard_normal(arr1.shape)\n",
    "    arr2 = arr2 + jitter*arr2.std(axis=0)*np.random.standard_normal(arr2.shape)\n",
    "    plt.scatter(arr1, arr2, marker=4)"
   ]
  },
  {
   "cell_type": "code",
   "execution_count": 288,
   "metadata": {},
   "outputs": [
    {
     "data": {
      "text/plain": [
       "<matplotlib.text.Text at 0x1b61dc88>"
      ]
     },
     "execution_count": 288,
     "metadata": {},
     "output_type": "execute_result"
    },
    {
     "data": {
      "image/png": "[encoded data removed]",
      "text/plain": [
       "<matplotlib.figure.Figure at 0x21bee2e8>"
      ]
     },
     "metadata": {},
     "output_type": "display_data"
    }
   ],
   "source": [
    "# Your code goes here\n",
    "scatter_jitter(news_A['w96_of'],news_A['w10_home'],jitter=0.3)\n",
    "plt.xlabel('w96_of')\n",
    "plt.ylabel('w10_home')\n"
   ]
  },
  {
   "cell_type": "markdown",
   "metadata": {},
   "source": [
    "### ========== Question 1.9 --- [7 marks] ==========\n",
    "From the strip and scatter plots above you might observe that there is something peculiar about the data. Indeed most attributes take very small values (usually in the range 1-10) but there are some data points (i.e. rows) in the dataset where the attributes take very large values. These data points are called [outliers](https://en.wikipedia.org/wiki/Outlier).\n",
    "\n",
    "You might think that the presence of outliers in the dataset has been a resut of noise contamination (you wouldn't expect the same word to appear 600 times within an e-mail, would you?). Your job now is to create a new dataset from dataset A (name it `news_A_clean`) and remove the outliers. Create some metric to find the outliers and check that your metric is reasonable. Be careful not to alter the original `news_A`...we may require it in its dirty format later..."
   ]
  },
  {
   "cell_type": "markdown",
   "metadata": {},
   "source": [
    "## Find the outliers\n",
    "** 1. Get a general information of the attributes. **  \n",
    "Check the possible outlier with different word count threshold (100,200,300,400,500,600), and print their total amounts. \n",
    "    \n",
    "    n=0\n",
    "    for i,x in news_A.iterrows():\n",
    "        if x.max()>100 or sum(x)>1000:\n",
    "            print(i,x.idxmax(), \", \",x.max(), \", \",round(news_A[x.idxmax()].mean(),1),'Sum of words in email', sum(x))\n",
    "            n+=1      \n",
    "    print(n) \n",
    "\n",
    "* The observes {word count threshold : posisble outlier documents amount} is {100:38, 200: 32, 300: 31, 400: 30, 500: 30, 600: 23}  \n",
    "* Even though the selected 520 features words do not cover all the words types in these documents, they are still the frequent words. So the features words' total amounts in each document could tell us the approximate size of the document. \n",
    "* Document with any single word counts more than 500, their size are tremendous large (total words > 170,000).\n",
    "\n",
    "** 2. Extreme Value Analysis**\n",
    "* For document with any single word counts more than 500, their size are tremendous large (total words > 170,000). Since it is quite unusual for the same word to appear 600 times within an e-mail (also the documents words size). So these are counted as outlier!\n",
    "* Besides, there are 5 documents of which the \"of\"s counts seems a little bit large (appear once in every 11-15 words), which possibly be outlier.  \n",
    "\n",
    "2.1 Visualizing the \"of\" attributes:  \n",
    "    `sns.distplot(news_A['w96_of'],rug=True)`  \n",
    "    Intuitively, there is threshold in value 100 which distinguish two kind of values, documents with \"of\" counts larger than 100 is suspectable as outlier.   \n",
    "2.2 Assume a distribution (Gaussian) and look for values more than 3 standard deviations from the mean   \n",
    "    \n",
    "    \n",
    "    n=0\n",
    "    for i,x in news_A.iterrows():\n",
    "        z_score = (x.max()-news_A[x.idxmax()].mean())/ news_A[x.idxmax()].std()\n",
    "        if z_score>3:\n",
    "            print(i,x['class'],x.idxmax(), \", \",x.max(), \n",
    "                  \", mean:\",round(news_A[x.idxmax()].mean(),1),\n",
    "                  ',z-score:', z_score,\n",
    "                  ',Sum of words in email', sum(x))\n",
    "            n+=1      \n",
    "    print(n)  \n",
    "  \n",
    "It turns out that there are 35 possible outlier, which could be treated as two groups:   \n",
    "   * First is the 30 documents which are those already been defined as outlier(attributes value > 500). \n",
    "   * The rest 5 documents are exactly the 5 documents mentioned above with large value for the \"of\" attribute (values all larger than 100)! \n",
    "    \n",
    "** 3. Conclusion：**  \n",
    "With the above three steps of analysis in different angle which reach an integrated conclusion (even not mathematically strictly) :   \n",
    "An outlier here was defined to be a document contains any single attribute with value more than 3 standard deviations from its own mean(z-score>3)."
   ]
  },
  {
   "cell_type": "code",
   "execution_count": 206,
   "metadata": {
    "scrolled": false
   },
   "outputs": [
    {
     "name": "stdout",
     "output_type": "stream",
     "text": [
      "123 5 w70_kill ,  600 , mean: 6.8 ,z-score: 11.5734713291 ,Sum of words in email 183411\n",
      "159 2 w70_kill ,  600 , mean: 6.8 ,z-score: 11.5734713291 ,Sum of words in email 180499\n",
      "196 5 w115_early ,  599 , mean: 6.2 ,z-score: 12.9002136683 ,Sum of words in email 183475\n",
      "222 4 w325_data ,  600 , mean: 5.7 ,z-score: 13.815666475 ,Sum of words in email 182783\n",
      "242 1 w244_wingate ,  599 , mean: 6.4 ,z-score: 12.0437955679 ,Sum of words in email 178461\n",
      "476 5 w107_john ,  600 , mean: 5.7 ,z-score: 14.2747371405 ,Sum of words in email 183619\n",
      "539 4 w378_simms ,  600 , mean: 6.3 ,z-score: 12.6396874979 ,Sum of words in email 184846\n",
      "558 1 w96_of ,  156 , mean: 9.6 ,z-score: 3.35109699015 ,Sum of words in email 2332\n",
      "559 4 w326_potvin ,  600 , mean: 6.3 ,z-score: 12.5258178063 ,Sum of words in email 179550\n",
      "576 2 w157_fact ,  600 , mean: 5.8 ,z-score: 13.8444251439 ,Sum of words in email 182467\n",
      "594 3 w144_via ,  597 , mean: 5.4 ,z-score: 14.5072017587 ,Sum of words in email 182614\n",
      "746 3 w42_european ,  600 , mean: 5.8 ,z-score: 13.5194745827 ,Sum of words in email 177688\n",
      "749 1 w96_of ,  165 , mean: 9.6 ,z-score: 3.55715570878 ,Sum of words in email 1875\n",
      "769 4 w140_vice ,  600 , mean: 6.2 ,z-score: 12.7833845813 ,Sum of words in email 186939\n",
      "846 4 w350_sport ,  600 , mean: 5.9 ,z-score: 13.5501517777 ,Sum of words in email 182152\n",
      "1120 2 w109_fax ,  600 , mean: 6.2 ,z-score: 12.7145419946 ,Sum of words in email 181984\n",
      "1238 2 w34_east ,  600 , mean: 6.2 ,z-score: 13.0587678102 ,Sum of words in email 184939\n",
      "1239 3 w116_uses ,  600 , mean: 6.5 ,z-score: 12.0258745266 ,Sum of words in email 181381\n",
      "1289 1 w96_of ,  327 , mean: 9.6 ,z-score: 7.26621264403 ,Sum of words in email 2690\n",
      "1326 5 w96_of ,  201 , mean: 9.6 ,z-score: 4.38139058328 ,Sum of words in email 3148\n",
      "1363 2 w57_sabres ,  598 , mean: 6.4 ,z-score: 12.1670106881 ,Sum of words in email 178761\n",
      "1367 1 w198_beliefs ,  599 , mean: 5.8 ,z-score: 13.6011339466 ,Sum of words in email 183235\n",
      "1380 3 w62_our ,  599 , mean: 6.0 ,z-score: 13.41758373 ,Sum of words in email 183672\n",
      "1396 4 w297_modem ,  600 , mean: 5.6 ,z-score: 14.7508920195 ,Sum of words in email 181393\n",
      "1433 5 w70_kill ,  598 , mean: 6.8 ,z-score: 11.5344529046 ,Sum of words in email 185328\n",
      "1531 1 w6_dwyer ,  600 , mean: 6.1 ,z-score: 12.9202822464 ,Sum of words in email 173145\n",
      "1763 5 w84_canada ,  600 , mean: 5.9 ,z-score: 13.5459350758 ,Sum of words in email 176409\n",
      "1871 1 w96_of ,  148 , mean: 9.6 ,z-score: 3.16793368471 ,Sum of words in email 1591\n",
      "1908 5 w212_cannot ,  600 , mean: 5.7 ,z-score: 13.8299255321 ,Sum of words in email 181779\n",
      "2040 4 w293_against ,  600 , mean: 4.9 ,z-score: 16.3721362023 ,Sum of words in email 176272\n",
      "2081 3 w249_statement ,  600 , mean: 6.1 ,z-score: 13.1223799531 ,Sum of words in email 181967\n",
      "2134 2 w194_that ,  600 , mean: 9.1 ,z-score: 12.5058829696 ,Sum of words in email 180242\n",
      "2185 1 w340_christianity ,  600 , mean: 5.9 ,z-score: 13.379835963 ,Sum of words in email 176775\n",
      "2200 1 w377_human ,  600 , mean: 6.3 ,z-score: 12.5769540404 ,Sum of words in email 183971\n",
      "2248 5 w145_champs ,  600 , mean: 5.9 ,z-score: 13.1898754427 ,Sum of words in email 183987\n",
      "35\n",
      "[123, 159, 196, 222, 242, 476, 539, 558, 559, 576, 594, 746, 749, 769, 846, 1120, 1238, 1239, 1289, 1326, 1363, 1367, 1380, 1396, 1433, 1531, 1763, 1871, 1908, 2040, 2081, 2134, 2185, 2200, 2248]\n"
     ]
    },
    {
     "data": {
      "image/png": "[encoded data removed]",
      "text/plain": [
       "<matplotlib.figure.Figure at 0x21b5d048>"
      ]
     },
     "metadata": {},
     "output_type": "display_data"
    }
   ],
   "source": [
    "# Your code goes here\n",
    "# Detect and save the index of outliers\n",
    "n=0\n",
    "is_outlier_index = []\n",
    "for i,x in news_A.iterrows():\n",
    "    z_score = (x.max()-news_A[x.idxmax()].mean())/ news_A[x.idxmax()].std()\n",
    "    if z_score>3:\n",
    "        print(i,x['class'],x.idxmax(), \", \",x.max(), \n",
    "              \", mean:\",round(news_A[x.idxmax()].mean(),1),\n",
    "              ',z-score:', z_score,\n",
    "              ',Sum of words in email', sum(x))\n",
    "        n+=1\n",
    "        is_outlier_index.append(i)       \n",
    "print(n) \n",
    "print(is_outlier_index)\n",
    "######################################################################################################################################\n",
    "sns.distplot(news_A['w96_of'],rug=True)\n",
    "\n",
    "######################################################################################################################################\n",
    "# Create new data set: exclude outlier from raw data \n",
    "news_A_clean = news_A.drop(is_outlier_index,axis=0)"
   ]
  },
  {
   "cell_type": "markdown",
   "metadata": {},
   "source": [
    "### ========== Question 1.10 --- [3 marks] ==========\n",
    "Write code to return the number of data points in the clean dataset, and the number of documents that have been excluded as outliers"
   ]
  },
  {
   "cell_type": "code",
   "execution_count": 207,
   "metadata": {},
   "outputs": [
    {
     "name": "stdout",
     "output_type": "stream",
     "text": [
      "The number of data points in the clean dataset is:    (2094, 521)\n",
      "the number of documents that have been excluded as outliers is:    35\n"
     ]
    }
   ],
   "source": [
    "# Your code goes here\n",
    "print('The number of data points in the clean dataset is:   ', news_A_clean.shape)\n",
    "print('the number of documents that have been excluded as outliers is:   ', len(is_outlier_index))"
   ]
  },
  {
   "cell_type": "markdown",
   "metadata": {},
   "source": [
    "## 2. Naive Bayes classification [60%]\n",
    "Now we want to fit a Gaussian Naive Bayes model to the cleaned dataset A. You might want first to familiarise yourself with the [`GaussianNB`](http://scikit-learn.org/stable/modules/generated/sklearn.naive_bayes.GaussianNB.html) class in `Sklearn`."
   ]
  },
  {
   "cell_type": "markdown",
   "metadata": {},
   "source": [
    "### ========== Question 2.1 --- [4 marks] ==========\n",
    "\n",
    "By using the `scatter_jitter` function provided above, display a scatter plot of the features `w281_ico` and `w273_tek` for the cleaned dataset A. Set the jitter value to something small (e.g. 0.1). Label axes appropriately."
   ]
  },
  {
   "cell_type": "code",
   "execution_count": 208,
   "metadata": {},
   "outputs": [
    {
     "data": {
      "text/plain": [
       "<matplotlib.text.Text at 0x1ed67978>"
      ]
     },
     "execution_count": 208,
     "metadata": {},
     "output_type": "execute_result"
    },
    {
     "data": {
      "image/png": "[encoded data removed]",
      "text/plain": [
       "<matplotlib.figure.Figure at 0x1402b630>"
      ]
     },
     "metadata": {},
     "output_type": "display_data"
    }
   ],
   "source": [
    "# Your code goes here\n",
    "scatter_jitter(news_A_clean['w281_ico'],news_A_clean['w273_tek'],jitter=0.1)\n",
    "#plt.scatter(news_A_clean['w281_ico'], news_A_clean['w273_tek'], marker=4)\n",
    "plt.xlabel('w281_ico')\n",
    "plt.ylabel('w273_tek')"
   ]
  },
  {
   "cell_type": "markdown",
   "metadata": {},
   "source": [
    "### ========== Question 2.2 --- [6 marks] ==========\n",
    "What do you observe?   \n",
    "  \n",
    "How does that relate to the Naive Bayes assumption?   \n",
    "       \n",
    "What would be the main issue we would have to face if we didn't make this assumption?  \n",
    "    \n"
   ]
  },
  {
   "cell_type": "markdown",
   "metadata": {},
   "source": [
    "*Your answer goes here*  \n",
    "**Q1:   \n",
    "The two variables are not independent with each other** \n",
    "\n",
    "**Q2:   \n",
    "The Naive Bayes assumes that features are conditional independence given the label. Yet here we could observe that features w281_ico and w273_tek are acutally dependence. Which means that if we use Naive Bayes as classifier here, we may get the wrong result. Despite the fact that the 520 features are the best we could have in this task.   **  \n",
    "\n",
    "**Q3:   \n",
    "The main issue if we didn't make the Naive Bayes assumption is that we would have to estimate a full covariance matrix of size 520 X 520 (i.e. ~270400 parameters) and we only have 2097 samples, which is quite not large enough compared to the features. So the covariance estimate might be dominated by noise. Assuming conditional independence allows us to esimate a diagonal covariance matrix i.e. estimate a variance for each variable independently and assume all covariances between distinct variables are 0.**"
   ]
  },
  {
   "cell_type": "markdown",
   "metadata": {},
   "source": [
    "### ========== Question 2.3 --- [5 marks] ==========\n",
    "Fit a Gaussian Naive Bayes model to the cleaned dataset A. Your input features should be all the attributes in the dataset except the `class` attribute which will be your target. Display the classification accuracy on the training dataset."
   ]
  },
  {
   "cell_type": "code",
   "execution_count": 209,
   "metadata": {},
   "outputs": [
    {
     "data": {
      "text/plain": [
       "0.879178605539637"
      ]
     },
     "execution_count": 209,
     "metadata": {},
     "output_type": "execute_result"
    }
   ],
   "source": [
    "# Your code goes here\n",
    "from sklearn.naive_bayes import GaussianNB\n",
    "from sklearn.metrics import accuracy_score, confusion_matrix\n",
    "X_clean = news_A_clean.drop('class', axis=1)\n",
    "y_clean = news_A_clean['class']\n",
    "clf_clean = GaussianNB()\n",
    "clf_clean.fit(X=X_clean,y=y_clean)\n",
    "pred_clean = clf_clean.predict(X_clean)\n",
    "ca = clf_clean.score(X_clean,y_clean)\n",
    "ca"
   ]
  },
  {
   "cell_type": "markdown",
   "metadata": {},
   "source": [
    "### ========== Question 2.4 --- [5 marks] ==========\n",
    "Plot the (normalised) confusion matrix for the training data. Label axes appropriately."
   ]
  },
  {
   "cell_type": "code",
   "execution_count": 215,
   "metadata": {},
   "outputs": [
    {
     "data": {
      "image/png": "[encoded data removed]",
      "text/plain": [
       "<matplotlib.figure.Figure at 0x2096b630>"
      ]
     },
     "metadata": {},
     "output_type": "display_data"
    }
   ],
   "source": [
    "# Your code goes here\n",
    "def plot_confusion_matrix(cm, classes=None, title='Confusion matrix'):\n",
    "    \"\"\"Plots a confusion matrix.\"\"\"\n",
    "    if classes is not None:\n",
    "        sns.heatmap(cm, xticklabels=classes, yticklabels=classes, vmin=0., vmax=1., annot=True,cmap=\"YlGnBu\" )\n",
    "    else:\n",
    "        sns.heatmap(cm, vmin=0., vmax=1.)\n",
    "    plt.title(title)\n",
    "    plt.ylabel('True label')\n",
    "    plt.xlabel('Predicted label')\n",
    "    \n",
    "cm_clean = confusion_matrix(y_clean, pred_clean)\n",
    "cm_clean_norm = cm_clean/cm_clean.sum(axis=1)[:, np.newaxis]\n",
    "plt.figure()\n",
    "#plot_confusion_matrix(cm_norm,classes=['1.alt.atheism', '2.comp.sys.ibm.pc.hardware','3.comp.sys.mac.hardware','4.rec.sport.baseball','5.rec.sport.hockey'])\n",
    "plot_confusion_matrix(cm_clean_norm,classes=['1','2','3','4','5'])\n"
   ]
  },
  {
   "cell_type": "markdown",
   "metadata": {},
   "source": [
    "### ========== Question 2.5 --- [3 marks] ==========\n",
    "\n",
    "Comment on the confusion matrix from the previous question. Does it look like what you would have expected? Explain."
   ]
  },
  {
   "cell_type": "markdown",
   "metadata": {},
   "source": [
    "*Your answer goes here*\n",
    "* Most of the correct predictions located in the diagonal of the table is as expected.  \n",
    "* Except for class 2, with a poor performance compared to the other classes.\n",
    "* There is also an relatively outsanding prediction error with 0.36 in cm(2,3), which indicates the error of class 2 news being predicted as class 3."
   ]
  },
  {
   "cell_type": "markdown",
   "metadata": {},
   "source": [
    "### ========== Question 2.6 --- [5 marks] ==========\n",
    "Fit a Gaussian Naive Bayes model to the original dataset A (including the outliers). Display the classification accuracy on the training dataset."
   ]
  },
  {
   "cell_type": "code",
   "execution_count": 216,
   "metadata": {},
   "outputs": [
    {
     "name": "stdout",
     "output_type": "stream",
     "text": [
      "0.205260685768\n"
     ]
    },
    {
     "data": {
      "image/png": "[encoded data removed]",
      "text/plain": [
       "<matplotlib.figure.Figure at 0x1f671be0>"
      ]
     },
     "metadata": {},
     "output_type": "display_data"
    }
   ],
   "source": [
    "# Your code goes here\n",
    "X = news_A.drop('class', axis=1)\n",
    "y = news_A['class']\n",
    "clf = GaussianNB()\n",
    "clf.fit(X=X,y=y)\n",
    "pred = clf.predict(X)\n",
    "#ca = accuracy_score(y, pred) \n",
    "ca = clf.score(X,y)\n",
    "print(ca)\n",
    "cm = confusion_matrix(y, pred)\n",
    "cm_norm = cm/cm.sum(axis=1)[:, np.newaxis]\n",
    "plt.figure()\n",
    "#plot_confusion_matrix(cm_norm,classes=['1.alt.atheism', '2.comp.sys.ibm.pc.hardware','3.comp.sys.mac.hardware','4.rec.sport.baseball','5.rec.sport.hockey'])\n",
    "plot_confusion_matrix(cm_norm,classes=['1','2','3','4','5'])\n"
   ]
  },
  {
   "cell_type": "markdown",
   "metadata": {},
   "source": [
    "### ========== Question 2.7 --- [4 marks] ==========\n",
    "Comment on the above results (Questions 2.3 & 2.6). In particular explain why you think that cleaning the data helps in this case."
   ]
  },
  {
   "cell_type": "markdown",
   "metadata": {},
   "source": [
    "*Your answer goes here*\n",
    "* In Q2.3, we acquire accuracy around 0.88. Yet in Q2.6, it is just 0.205. \n",
    "* In particular, in Q2.6, except class 3, all the other classes's correct prediction accuracy are quite terrible(no more than 1.5%). Yet the correct prediction accuracy in Q2.3 are approximatly 89%-99% (except one less than 70%). \n",
    "* Besides, in Q2.6, the false negatives and false positives related to class 3 are so high. Actually, that means almost all of the test samples were predicted as class 3. \n",
    "* In addition, in Q2.6, no test sample was predicted as class 2. As we all know, class 2.comp.sys.ibm.pc.hardware and class 3.comp.sys.mac.hardware are quite similar. By cleaning the data, Q2.3 could apparently improve the classification between class 2 and class 3.\n",
    "* So obviously cleaning the data could provide a significant improvement in the prediction accuracy."
   ]
  },
  {
   "cell_type": "markdown",
   "metadata": {},
   "source": [
    "### ========== Question 2.8 --- [5 marks] ==========\n",
    "\n",
    "Now we want to evaluate the generalisation of the classifier on new (i.e. unseen data). Use the classifier you trained in Question 2.5 (i.e. on the cleaned dataset) and test its performance on dataset `train_20news_partB`. \n",
    "\n",
    "Display the (normalized) confusion matrix and the classification accuracy on the Dataset B."
   ]
  },
  {
   "cell_type": "code",
   "execution_count": 217,
   "metadata": {},
   "outputs": [
    {
     "name": "stdout",
     "output_type": "stream",
     "text": [
      "0.828125\n"
     ]
    },
    {
     "data": {
      "image/png": "[encoded data removed]",
      "text/plain": [
       "<matplotlib.figure.Figure at 0x130000b8>"
      ]
     },
     "metadata": {},
     "output_type": "display_data"
    }
   ],
   "source": [
    "# Your code goes here\n",
    "test_B = news_B.drop('class', axis=1)\n",
    "label_B = news_B['class']\n",
    "pred_B = clf_clean.predict(test_B)\n",
    "ca_B = clf_clean.score(test_B,label_B)\n",
    "print(ca_B)\n",
    "cm_B = confusion_matrix(label_B, pred_B)\n",
    "cm_B_norm = cm_B/cm_B.sum(axis=1)[:, np.newaxis]\n",
    "plt.figure()\n",
    "plot_confusion_matrix(cm_B_norm,classes=['1','2','3','4','5'])"
   ]
  },
  {
   "cell_type": "markdown",
   "metadata": {},
   "source": [
    "### ========== Question 2.9 --- [4 marks] ==========\n",
    "\n",
    "Comment on the results from the previous question. Do you think this is an acceptable level of performance? Which are the easiest and most difficult classes to predict correctly? "
   ]
  },
  {
   "cell_type": "markdown",
   "metadata": {},
   "source": [
    "*Your answer goes here*   \n",
    "\n",
    "* Q1. This is an acceptable performance. Because:\n",
    "    * The prediction of class 1 is quite successful, as class 1 is relatively isolated topic compared with the other classes.\n",
    "    * Prediction of class 2 and 3 are less well performed, since the class 2 and class 3 are quite similar, so to classify between them is very difficult, so as the class 4 and class 5 pair.  \n",
    "\n",
    "\n",
    "* Q2. As the confusion matrix shows with statements above, the class 1 is the easiest while class 2 is the most difficult class to predict."
   ]
  },
  {
   "cell_type": "markdown",
   "metadata": {},
   "source": [
    "### ========== Question 2.10 --- [4 marks] ==========\n",
    "What is a reasonable baseline against which to compare the classiffication performance? *Hint: What is the simplest classiffier you can think of and what would its performance be on this dataset?* "
   ]
  },
  {
   "cell_type": "markdown",
   "metadata": {},
   "source": [
    "*Your answer goes here*  \n",
    "\n",
    "A reasonable baseline could be the simplest classiffier here: select the class that has the most observations and simply use that class as the result for all predictions. \n",
    "* Choose the sklearn.metrics.accuracy_score as measurement\n",
    "* Find out the most observations in dataset, which turns out to be class 4\n",
    "* Predict all training samples as class 4\n",
    "* Calculate the accuracy score of this classification. Which is 0.213.\n",
    "* Use the score as the base line. Recall that the score of GaussianNB classifier on cleaned data is 0.88, which is higher than base line.\n"
   ]
  },
  {
   "cell_type": "markdown",
   "metadata": {},
   "source": [
    "### ========== Question 2.11 --- [4 marks] ==========\n",
    "\n",
    "Estimate the baseline performance."
   ]
  },
  {
   "cell_type": "code",
   "execution_count": 218,
   "metadata": {},
   "outputs": [
    {
     "name": "stdout",
     "output_type": "stream",
     "text": [
      "Counter({4: 447, 5: 445, 3: 422, 2: 421, 1: 359})\n",
      "Estimated baseline performance:   0.213467048711\n"
     ]
    }
   ],
   "source": [
    "# Your code goes here\n",
    "from collections import Counter\n",
    "#from sklearn.dummy import DummyClassifier\n",
    "print(Counter(y_clean))\n",
    "y_clean.shape[0]\n",
    "base_line = np.ones(y_clean.shape[0])*4\n",
    "print('Estimated baseline performance:  ',accuracy_score(y_clean, base_line))\n"
   ]
  },
  {
   "cell_type": "markdown",
   "metadata": {},
   "source": [
    "### ========== Question 2.12 --- [3 marks] ==========\n",
    "\n",
    "Execute the cell below to get the prediction on the test dataset by using a different classifier which we will be introducing in this class later on. By using this prediction provided below (`rf_prediction`) plot the confusion matrix and display the classification accuracy on the test dataset. *Important: Make sure the test dataset is loaded in a DataFrame called `news_B` otherwise execution will return an error. In that case replace the DataFrame name in the third line.*"
   ]
  },
  {
   "cell_type": "code",
   "execution_count": 281,
   "metadata": {},
   "outputs": [
    {
     "name": "stdout",
     "output_type": "stream",
     "text": [
      "0.921875\n"
     ]
    },
    {
     "data": {
      "image/png": "[encoded data removed]",
      "text/plain": [
       "<matplotlib.figure.Figure at 0x1b6b55c0>"
      ]
     },
     "metadata": {},
     "output_type": "display_data"
    }
   ],
   "source": [
    "from sklearn.ensemble import RandomForestClassifier\n",
    "rf = RandomForestClassifier(n_estimators = 50).fit(X=news_A_clean.drop(\"class\", axis=1), y=news_A_clean[\"class\"])\n",
    "X_ts = news_B.drop('class', axis=1)\n",
    "rf_prediction = rf.predict(X=X_ts)\n",
    "# Your code goes here\n",
    "ca_rf = rf.score(X_ts,label_B)\n",
    "print(ca_rf)\n",
    "cm_rf = confusion_matrix(label_B, rf_prediction)\n",
    "cm_rf_norm = cm_rf/cm_rf.sum(axis=1)[:, np.newaxis]\n",
    "plt.figure()\n",
    "plot_confusion_matrix(cm_rf_norm,classes=['1','2','3','4','5'])"
   ]
  },
  {
   "cell_type": "markdown",
   "metadata": {},
   "source": [
    "### ========== Question 2.13 --- [8 marks] ==========\n",
    "\n",
    "Which classifier (Naive Bayes or Random Forest) would you trust if you had to choose? What are the reasons you believe the Gaussian Naive Bayes classifier does not perofm so well in this particular problem? You are not expected to justify the performance level achieved by the Random Forest classifier. Feel free to use code and plots to illustrate your points."
   ]
  },
  {
   "cell_type": "markdown",
   "metadata": {},
   "source": [
    "*Your answer goes here*  \n",
    "\n",
    "* Here random forest classifier is more trustable.\n",
    "* The reason that Gaussian NB classifier does not perform well here is that the dataset itself disobey the Naive Bayes assumption. \n",
    "* As the description of the dataset shows that the 520 words are selected as features out of 61,000 words, based on the fact that they have the highest mutual information among each \n",
    "* As we could see in Q2.1, two features are kind of linear dependency regardless of a given label or not. Actually, many features of the dataset are highly co-related with each other. \n",
    "* Because the dataset already break the Naive Bayes assumption. It means applying Naive Bayes classification here is mathematically wrong, despite the fact that it could still achieve an acceptable accuracy. "
   ]
  },
  {
   "cell_type": "code",
   "execution_count": 283,
   "metadata": {},
   "outputs": [
    {
     "name": "stdout",
     "output_type": "stream",
     "text": [
      "w46_rit w81_ultb 0.993652962174\n",
      "w81_ultb w46_rit 0.993652962174\n",
      "w104_saturn w105_wwc 1.0\n",
      "w105_wwc w104_saturn 1.0\n",
      "w273_tek w281_ico 0.982320527826\n",
      "w276_buphy w302_jaeger 0.993426207059\n",
      "w281_ico w273_tek 0.982320527826\n",
      "w300_bobbe w301_beauchaine 1.0\n",
      "w301_beauchaine w300_bobbe 1.0\n",
      "w302_jaeger w276_buphy 0.993426207059\n",
      "w398_wpd w404_solntze 0.988627909675\n",
      "w404_solntze w398_wpd 0.988627909675\n",
      "w404_solntze w413_livesey 0.987276073544\n",
      "w413_livesey w404_solntze 0.987276073544\n",
      "High coefficient related pair numbers：  74\n"
     ]
    },
    {
     "data": {
      "image/png": "[encoded data removed]",
      "text/plain": [
       "<matplotlib.figure.Figure at 0x2020f240>"
      ]
     },
     "metadata": {},
     "output_type": "display_data"
    }
   ],
   "source": [
    "# Your code goes here\n",
    "#  Find all of the high coefficient related  atrributes pairs\n",
    "from scipy.stats.stats import pearsonr\n",
    "plt.scatter(news_A_clean['w104_saturn'], news_A_clean['w105_wwc'], marker=5)\n",
    "n=0\n",
    "for col_a in news_A_clean:\n",
    "    for col_b in news_A_clean:\n",
    "        if col_a != col_b:\n",
    "            cr,p = pearsonr(news_A_clean[col_a],news_A_clean[col_b])\n",
    "            if cr >= 0.8:\n",
    "                n+=1\n",
    "                if cr> 0.98:\n",
    "                    print(col_a,col_b,cr)\n",
    "print('High coefficient related pair numbers： ',int(n/2))\n"
   ]
  }
 ],
 "metadata": {
  "kernelspec": {
   "display_name": "Python 2",
   "language": "python",
   "name": "python2"
  },
  "language_info": {
   "codemirror_mode": {
    "name": "ipython",
    "version": 2
   },
   "file_extension": ".py",
   "mimetype": "text/x-python",
   "name": "python",
   "nbconvert_exporter": "python",
   "pygments_lexer": "ipython2",
   "version": "2.7.13"
  }
 },
 "nbformat": 4,
 "nbformat_minor": 1
}
